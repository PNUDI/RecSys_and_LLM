{
 "cells": [
  {
   "cell_type": "code",
   "execution_count": 4,
   "metadata": {},
   "outputs": [
    {
     "name": "stdout",
     "output_type": "stream",
     "text": [
      "      tconst            primaryTitle                    genres\n",
      "0  tt0000001              Carmencita         Documentary,Short\n",
      "1  tt0000002  Le clown et ses chiens           Animation,Short\n",
      "2  tt0000003            Poor Pierrot  Animation,Comedy,Romance\n",
      "3  tt0000004             Un bon bock           Animation,Short\n",
      "4  tt0000005        Blacksmith Scene                     Short\n"
     ]
    }
   ],
   "source": [
    "import pandas as pd\n",
    "\n",
    "# IMDb TSV 파일 로드 (파일 경로 수정 필요)\n",
    "file_path = \"data/title.basics.tsv\"\n",
    "\n",
    "# \\t (Tab)으로 구분된 TSV 파일을 불러오기\n",
    "columns_to_load = [\"tconst\", \"primaryTitle\", \"genres\"]\n",
    "\n",
    "df = pd.read_csv(file_path, sep=\"\\t\", usecols=columns_to_load, low_memory=False)\n",
    "\n",
    "print(df.head(5))  # ✅ 훨씬 빠르게 실행됨!\n"
   ]
  },
  {
   "cell_type": "code",
   "execution_count": 5,
   "metadata": {},
   "outputs": [],
   "source": [
    "df.to_csv('data/imdb_genre.csv')"
   ]
  },
  {
   "cell_type": "code",
   "execution_count": null,
   "metadata": {},
   "outputs": [],
   "source": []
  }
 ],
 "metadata": {
  "kernelspec": {
   "display_name": "base",
   "language": "python",
   "name": "python3"
  },
  "language_info": {
   "codemirror_mode": {
    "name": "ipython",
    "version": 3
   },
   "file_extension": ".py",
   "mimetype": "text/x-python",
   "name": "python",
   "nbconvert_exporter": "python",
   "pygments_lexer": "ipython3",
   "version": "3.12.8"
  }
 },
 "nbformat": 4,
 "nbformat_minor": 2
}
