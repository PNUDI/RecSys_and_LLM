{
 "cells": [
  {
   "cell_type": "code",
   "execution_count": 1,
   "metadata": {},
   "outputs": [
    {
     "name": "stderr",
     "output_type": "stream",
     "text": [
      "/Users/jun/Desktop/25_1/RecSys_and_LLM/.venv/lib/python3.10/site-packages/tqdm/auto.py:21: TqdmWarning: IProgress not found. Please update jupyter and ipywidgets. See https://ipywidgets.readthedocs.io/en/stable/user_install.html\n",
      "  from .autonotebook import tqdm as notebook_tqdm\n"
     ]
    }
   ],
   "source": [
    "import crs_toolkit\n",
    "from crs_toolkit import ChatgptAgent, ChatgptAgentConfig\n",
    "from crs_toolkit import ChatgptGen, ChatgptRec\n",
    "from dotenv import load_dotenv\n",
    "import os"
   ]
  },
  {
   "cell_type": "code",
   "execution_count": 2,
   "metadata": {},
   "outputs": [],
   "source": [
    "from crs_toolkit import LlamaGen, LlamaRec, LlamaAgent, LlamaAgentConfig"
   ]
  },
  {
   "cell_type": "code",
   "execution_count": 3,
   "metadata": {},
   "outputs": [
    {
     "data": {
      "text/plain": [
       "True"
      ]
     },
     "execution_count": 3,
     "metadata": {},
     "output_type": "execute_result"
    }
   ],
   "source": [
    "load_dotenv()"
   ]
  },
  {
   "cell_type": "code",
   "execution_count": 4,
   "metadata": {},
   "outputs": [],
   "source": [
    "os.environ[\"HF_AUTH_TOKEN\"] = os.getenv(\"HF_AUTH_TOKEN\")"
   ]
  },
  {
   "cell_type": "code",
   "execution_count": 5,
   "metadata": {},
   "outputs": [
    {
     "name": "stdout",
     "output_type": "stream",
     "text": [
      "Config: ChatgptAgentConfig {\n",
      "  \"WEIGHT_DIMENSIONS\": {},\n",
      "  \"_attn_implementation_autoset\": true,\n",
      "  \"answer_type\": \"movie\",\n",
      "  \"model_name\": \"gpt-4o\",\n",
      "  \"prompt\": \"\",\n",
      "  \"rec_pattern\": \"<movie>\",\n",
      "  \"resp_prompt\": \"System:\",\n",
      "  \"transformers_version\": \"4.49.0\"\n",
      "}\n",
      "\n"
     ]
    }
   ],
   "source": [
    "os.environ[\"OPENAI_API_KEY\"] = os.getenv(\"OPENAI_API_KEY\")\n",
    "gpt_rec = ChatgptRec.from_pretrained('PNUDI/ChatGPT-rec')\n",
    "gpt_gen = ChatgptGen.from_pretrained('PNUDI/ChatGPT-gen')\n",
    "chat_gpt_config = ChatgptAgentConfig()\n",
    "pipeline_gpt = ChatgptAgent(\n",
    "    config=chat_gpt_config,\n",
    "    rec_module=gpt_rec,\n",
    "    gen_module=gpt_gen\n",
    ")"
   ]
  },
  {
   "cell_type": "code",
   "execution_count": 6,
   "metadata": {},
   "outputs": [],
   "source": [
    "llama_rec = LlamaRec.from_pretrained(\"PNUDI/llama-rec\")"
   ]
  },
  {
   "cell_type": "code",
   "execution_count": 7,
   "metadata": {},
   "outputs": [],
   "source": [
    "llama_gen = LlamaGen.from_pretrained(\"PNUDI/llama-gen\")"
   ]
  },
  {
   "cell_type": "code",
   "execution_count": 8,
   "metadata": {},
   "outputs": [
    {
     "name": "stdout",
     "output_type": "stream",
     "text": [
      "Config: LlamaAgentConfig {\n",
      "  \"WEIGHT_DIMENSIONS\": {},\n",
      "  \"_attn_implementation_autoset\": true,\n",
      "  \"answer_type\": \"movie\",\n",
      "  \"model_name\": \"meta-llama/Llama-3.2-1B-Instruct\",\n",
      "  \"prompt\": \"\",\n",
      "  \"transformers_version\": \"4.49.0\"\n",
      "}\n",
      "\n"
     ]
    }
   ],
   "source": [
    "llama_config = LlamaAgentConfig()\n",
    "llama_pipeline = LlamaAgent(\n",
    "    config=llama_config,\n",
    "    rec_module=llama_rec,\n",
    "    gen_module=llama_gen\n",
    ")"
   ]
  },
  {
   "cell_type": "code",
   "execution_count": 9,
   "metadata": {},
   "outputs": [],
   "source": [
    "def set_pipeline():\n",
    "    return llama_pipeline"
   ]
  },
  {
   "cell_type": "code",
   "execution_count": 10,
   "metadata": {},
   "outputs": [],
   "source": [
    "def chat_with_system(pipeline):\n",
    "    context = []\n",
    "    print(\"대화를 시작합니다. 종료하려면 'quit'를 입력하세요.\")\n",
    "\n",
    "    while True:\n",
    "        user_input = input(\"User: \")\n",
    "        if user_input.lower() == 'quit':\n",
    "            break\n",
    "\n",
    "        # 사용자 입력을 컨텍스트에 추가\n",
    "        context.append(f\"User: {user_input}\")\n",
    "\n",
    "        # 전체 컨텍스트를 <sep>로 연결\n",
    "        full_context = \"<sep>\".join(context)\n",
    "\n",
    "        # 응답 생성\n",
    "        response = pipeline.response(full_context)\n",
    "        print(\"System:\", response)\n",
    "\n",
    "        # 시스템 응답을 컨텍스트에 추가\n",
    "        context.append(f\"System: {response}\")"
   ]
  },
  {
   "cell_type": "code",
   "execution_count": 11,
   "metadata": {},
   "outputs": [],
   "source": [
    "dialog = [\n",
    "    \"User: Hello!\",\n",
    "    \"System: Hello, I have some movie ideas for you. Have you watched the movie <entity>Interstella</entity>?\",\n",
    "    \"User: Yes, i've seen that movie. And i'm Looking for other movies in the horor category.\"\n",
    "]"
   ]
  },
  {
   "cell_type": "code",
   "execution_count": 12,
   "metadata": {},
   "outputs": [],
   "source": [
    "def build_llama_prompt(dialog, user_input=\"\"):\n",
    "    history = \"\"\n",
    "    last_user_input = user_input\n",
    "    for turn in dialog[:-1]:\n",
    "        history += turn + \"\\n\"\n",
    "    if dialog[-1].startswith(\"User:\"):\n",
    "        last_user_input = dialog[-1].replace(\"User:\", \"\").strip()\n",
    "    else:\n",
    "        raise ValueError(\"Last dialog entry must be from the user.\")\n",
    "    prompt = (\n",
    "        \"<|begin_of_text|>\\n\"\n",
    "        \"<|start_header_id|>system\\n\" + history.strip() + \"\\n<|end_header_id|>\\n\"\n",
    "        \"<|start_header_id|>user\\n\" + last_user_input + \"\\n<|end_header_id|>\\n\"\n",
    "        \"<|end_of_text|>\"\n",
    "    )\n",
    "    return prompt"
   ]
  },
  {
   "cell_type": "code",
   "execution_count": 13,
   "metadata": {},
   "outputs": [
    {
     "name": "stdout",
     "output_type": "stream",
     "text": [
      "[ChatgptAgent] user query: User: Hello!<sep>System: Hello, I have some movie ideas for you. Have you watched the movie <entity>Interstella</entity>?<sep>User: Yes, i've seen that movie. And i'm Looking for other movies in the horor category.\n",
      "[ChatgptGen] raw_input: User: Hello!<sep>System: Hello, I have some movie ideas for you. Have you watched the movie <entity>Interstella</entity>?<sep>User: Yes, i've seen that movie. And i'm Looking for other movies in the horor category.\n",
      "[ChatgptGen] tokenized messages: [{'role': 'user', 'content': 'Hello!'}, {'role': 'assistant', 'content': 'Hello, I have some movie ideas for you. Have you watched the movie Interstella?'}, {'role': 'user', 'content': \"Yes, i've seen that movie. And i'm Looking for other movies in the horor category.\"}, {'content': ' You are generating templates for a program to fill. In the template, each movie is replaced with a <movie> mask. For example, when you intend to say: \"Inception is a good movie\". You should instead say \"<movie> is a good movie\". Your response may or may not refer to a movie depending on the context.', 'role': 'system'}]\n",
      "[ChatgptGen] final prompt content: {'content': ' You are generating templates for a program to fill. In the template, each movie is replaced with a <movie> mask. For example, when you intend to say: \"Inception is a good movie\". You should instead say \"<movie> is a good movie\". Your response may or may not refer to a movie depending on the context.', 'role': 'system'}\n"
     ]
    },
    {
     "name": "stdout",
     "output_type": "stream",
     "text": [
      "[ChatgptGen] raw response from model: Great! If you're interested in horror movies, you might enjoy watching <movie> or <movie>. Both are well-regarded in the genre and offer some great scares. Do you have any specific type of horror you're interested in, like psychological, supernatural, or slasher?\n",
      "[ChatgptGen] final return (string): System: Great! If you're interested in horror movies, you might enjoy watching <movie> or <movie>. Both are well-regarded in the genre and offer some great scares. Do you have any specific type of horror you're interested in, like psychological, supernatural, or slasher?\n",
      "[ChatgptAgent] gen_output: System: Great! If you're interested in horror movies, you might enjoy watching <movie> or <movie>. Both are well-regarded in the genre and offer some great scares. Do you have any specific type of horror you're interested in, like psychological, supernatural, or slasher?\n",
      "[ChatgptAgent] rec input: System: Great! If you're interested in horror movies, you might enjoy watching <movie> or <movie>. Both are well-regarded in the genre and offer some great scares. Do you have any specific type of horror you're interested in, like psychological, supernatural, or slasher?\n",
      "[ChatgptRec] raw_input: System: Great! If you're interested in horror movies, you might enjoy watching <movie> or <movie>. Both are well-regarded in the genre and offer some great scares. Do you have any specific type of horror you're interested in, like psychological, supernatural, or slasher?\n",
      "[ChatgptRec] tokenized content: [{'role': 'assistant', 'content': \"Great! If you're interested in horror movies, you might enjoy watching <movie> or <movie>. Both are well-regarded in the genre and offer some great scares. Do you have any specific type of horror you're interested in, like psychological, supernatural, or slasher?\"}]\n",
      "[ChatgptRec] final messages to OpenAI: [{'role': 'assistant', 'content': \"Great! If you're interested in horror movies, you might enjoy watching <movie> or <movie>. Both are well-regarded in the genre and offer some great scares. Do you have any specific type of horror you're interested in, like psychological, supernatural, or slasher?\"}, {'content': ' Your previous response is a a template with some <movie> mask. Now please fill in with actual names of movie. Your answer should be formatted as a json object with a link to the movies wiki page  so that it could be directly parsed. For example if there are two <movie> in the template, and you want to fill them with \"Inception\" and \"The Matrix\", then your answer should be formatted as follows: [{\"name\": \"Inception\", \"uri\": \"https://en.wikipedia.org/wiki/Inception\"}, {\"name\": \"The Matrix\", \"uri\": \"https://en.wikipedia.org/wiki/The_Matrix\"}] The returned object should has the same number of movie as in your previous response. Do not include anything outside the json object.', 'role': 'system'}]\n",
      "[ChatgptRec] raw response from model: [{\"name\": \"Hereditary\", \"uri\": \"https://en.wikipedia.org/wiki/Hereditary_(film)\"}, {\"name\": \"The Conjuring\", \"uri\": \"https://en.wikipedia.org/wiki/The_Conjuring_(film)\"}]\n",
      "[ChatgptRec] final (list) answers: ['Hereditary', 'The Conjuring']\n",
      "[ChatgptAgent] rec output: ['Hereditary', 'The Conjuring']\n",
      "[ChatgptAgent] final prompt to OpenAI: [{'role': 'user', 'content': 'Please replace the \"<movie>\" in the text \"Great! If you\\'re interested in horror movies, you might enjoy watching <movie> or <movie>. Both are well-regarded in the genre and offer some great scares. Do you have any specific type of horror you\\'re interested in, like psychological, supernatural, or slasher?\" by the following phrases \"[\\'Hereditary\\', \\'The Conjuring\\']\" respectively. '}]\n",
      "[ChatgptAgent] final response from model: ChatCompletionMessage(content=\"Great! If you're interested in horror movies, you might enjoy watching Hereditary or The Conjuring. Both are well-regarded in the genre and offer some great scares. Do you have any specific type of horror you're interested in, like psychological, supernatural, or slasher?\", refusal=None, role='assistant', audio=None, function_call=None, tool_calls=None, annotations=[])\n",
      "ChatCompletionMessage(content=\"Great! If you're interested in horror movies, you might enjoy watching Hereditary or The Conjuring. Both are well-regarded in the genre and offer some great scares. Do you have any specific type of horror you're interested in, like psychological, supernatural, or slasher?\", refusal=None, role='assistant', audio=None, function_call=None, tool_calls=None, annotations=[])\n"
     ]
    }
   ],
   "source": [
    "# This is for ChatGPT\n",
    "def test_single_turn(pipeline, dialog):\n",
    "    # 대화 컨텍스트 설정\n",
    "    context = \"<sep>\".join(dialog)\n",
    "    # print(context)\n",
    "    answer = pipeline.response(context)\n",
    "    print(answer)\n",
    "\n",
    "test_single_turn(pipeline_gpt, dialog)"
   ]
  },
  {
   "cell_type": "code",
   "execution_count": 14,
   "metadata": {},
   "outputs": [
    {
     "name": "stdout",
     "output_type": "stream",
     "text": [
      "<|begin_of_text|>\n",
      "<|start_header_id|>system\n",
      "User: Hello!\n",
      "System: Hello, I have some movie ideas for you. Have you watched the movie <entity>Interstella</entity>?\n",
      "<|end_header_id|>\n",
      "<|start_header_id|>user\n",
      "Yes, i've seen that movie. And i'm Looking for other movies in the horor category.\n",
      "<|end_header_id|>\n",
      "<|end_of_text|>\n"
     ]
    }
   ],
   "source": [
    "pipeline = set_pipeline()\n",
    "prompt = build_llama_prompt(dialog)\n",
    "print(prompt)"
   ]
  },
  {
   "cell_type": "code",
   "execution_count": 15,
   "metadata": {},
   "outputs": [
    {
     "name": "stderr",
     "output_type": "stream",
     "text": [
      "Setting `pad_token_id` to `eos_token_id`:128009 for open-end generation.\n"
     ]
    },
    {
     "name": "stdout",
     "output_type": "stream",
     "text": [
      "[LlamaAgent] user query: <|begin_of_text|>\n",
      "<|start_header_id|>system\n",
      "User: Hello!\n",
      "System: Hello, I have some movie ideas for you. Have you watched the movie <entity>Interstella</entity>?\n",
      "<|end_header_id|>\n",
      "<|start_header_id|>user\n",
      "Yes, i've seen that movie. And i'm Looking for other movies in the horor category.\n",
      "<|end_header_id|>\n",
      "<|end_of_text|>\n",
      "[LlamaGen] raw_input: <|begin_of_text|>\n",
      "<|start_header_id|>system\n",
      "User: Hello!\n",
      "System: Hello, I have some movie ideas for you. Have you watched the movie <entity>Interstella</entity>?\n",
      "<|end_header_id|>\n",
      "<|start_header_id|>user\n",
      "Yes, i've seen that movie. And i'm Looking for other movies in the horor category.\n",
      "<|end_header_id|>\n",
      "<|end_of_text|>\n",
      "[LlamaGen] prompt with system text: <|begin_of_text|>\n",
      "<|start_header_id|>system\n",
      "User: Hello!\n",
      "System: Hello, I have some movie ideas for you. Have you watched the movie <entity>Interstella</entity>?\n",
      "<|end_header_id|>\n",
      "<|start_header_id|>user\n",
      "Yes, i've seen that movie. And i'm Looking for other movies in the horor category.\n",
      "<|end_header_id|>\n",
      "<|end_of_text|>You are a helpful assistant. Generate concise sentence templates about movies. In the template, each movie name must be replaced with the <movie> mask.\n",
      "\n",
      "Do not repeat the same instruction or list multiple times.\n",
      "\n",
      "Example:\n",
      "- \"Inception is a good movie.\" → \"<movie> is a good movie.\"\n",
      "\n",
      "Return only 3 diverse templates using the <movie> mask. Avoid repeating similar sentence structures.\n"
     ]
    },
    {
     "name": "stderr",
     "output_type": "stream",
     "text": [
      "The attention mask and the pad token id were not set. As a consequence, you may observe unexpected behavior. Please pass your input's `attention_mask` to obtain reliable results.\n",
      "Setting `pad_token_id` to `eos_token_id`:128001 for open-end generation.\n",
      "The attention mask is not set and cannot be inferred from input because pad token is same as eos token. As a consequence, you may observe unexpected behavior. Please pass your input's `attention_mask` to obtain reliable results.\n"
     ]
    },
    {
     "name": "stdout",
     "output_type": "stream",
     "text": [
      "\n",
      "\n",
      "system\n",
      "User: Hello!\n",
      "System: Hello, I have some movie ideas for you. Have you watched the movie <entity>Interstella</entity>?\n",
      "\n",
      "user\n",
      "Yes, i've seen that movie. And i'm Looking for other movies in the horor category.\n",
      "\n",
      "You are a helpful assistant. Generate concise sentence templates about movies. In the template, each movie name must be replaced with the <movie> mask.\n",
      "\n",
      "Do not repeat the same instruction or list multiple times.\n",
      "\n",
      "Example:\n",
      "- \"Inception is a good movie.\" → \"<movie> is a good movie.\"\n",
      "\n",
      "Return only 3 diverse templates using the <movie> mask. Avoid repeating similar sentence structures.\n",
      "\n",
      "[LlamaGen] decoded_text: \n",
      "system\n",
      "User: Hello!\n",
      "System: Hello, I have some movie ideas for you. Have you watched the movie <entity>Interstella</entity>?\n",
      "\n",
      "user\n",
      "Yes, i've seen that movie. And i'm Looking for other movies in the horor category.\n",
      "\n",
      "You are a helpful assistant. Generate concise sentence templates about movies. In the template, each movie name must be replaced with the <movie> mask.\n",
      "\n",
      "Do not repeat the same instruction or list multiple times.\n",
      "\n",
      "Example:\n",
      "- \"Inception is a good movie.\" → \"<movie> is a good movie.\"\n",
      "\n",
      "Return only 3 diverse templates using the <movie> mask. Avoid repeating similar sentence structures.\n",
      "[LlamaGen] final output: System: m\n",
      "User: Hello!\n",
      "System: Hello, I have some movie ideas for you. Have you watched the movie <entity>Interstella</entity>?\n",
      "\n",
      "user\n",
      "Yes, i've seen that movie. And i'm Looking for other movies in the horor category.\n",
      "\n",
      "You are a helpful assistant. Generate concise sentence templates about movies. In the template, each movie name must be replaced with the <movie> mask.\n",
      "\n",
      "Do not repeat the same instruction or list multiple times.\n",
      "\n",
      "Example:\n",
      "- \"Inception is a good movie.\" → \"<movie> is a good movie.\"\n",
      "\n",
      "Return only 3 diverse templates using the <movie> mask. Avoid repeating similar sentence structures.\n",
      "[LlamaAgent] gen_output: System: m\n",
      "User: Hello!\n",
      "System: Hello, I have some movie ideas for you. Have you watched the movie <entity>Interstella</entity>?\n",
      "\n",
      "user\n",
      "Yes, i've seen that movie. And i'm Looking for other movies in the horor category.\n",
      "\n",
      "You are a helpful assistant. Generate concise sentence templates about movies. In the template, each movie name must be replaced with the <movie> mask.\n",
      "\n",
      "Do not repeat the same instruction or list multiple times.\n",
      "\n",
      "Example:\n",
      "- \"Inception is a good movie.\" → \"<movie> is a good movie.\"\n",
      "\n",
      "Return only 3 diverse templates using the <movie> mask. Avoid repeating similar sentence structures.\n",
      "[LlamaRec] raw_input: System: m\n",
      "User: Hello!\n",
      "System: Hello, I have some movie ideas for you. Have you watched the movie <entity>Interstella</entity>?\n",
      "\n",
      "user\n",
      "Yes, i've seen that movie. And i'm Looking for other movies in the horor category.\n",
      "\n",
      "You are a helpful assistant. Generate concise sentence templates about movies. In the template, each movie name must be replaced with the <movie> mask.\n",
      "\n",
      "Do not repeat the same instruction or list multiple times.\n",
      "\n",
      "Example:\n",
      "- \"Inception is a good movie.\" → \"<movie> is a good movie.\"\n",
      "\n",
      "Return only 3 diverse templates using the <movie> mask. Avoid repeating similar sentence structures.\n",
      "[LlamaRec] final prompt: System: m\n",
      "User: Hello!\n",
      "System: Hello, I have some movie ideas for you. Have you watched the movie <entity>Interstella</entity>?\n",
      "\n",
      "user\n",
      "Yes, i've seen that movie. And i'm Looking for other movies in the horor category.\n",
      "\n",
      "You are a helpful assistant. Generate concise sentence templates about movies. In the template, each movie name must be replaced with the <movie> mask.\n",
      "\n",
      "Do not repeat the same instruction or list multiple times.\n",
      "\n",
      "Example:\n",
      "- \"Inception is a good movie.\" → \"<movie> is a good movie.\"\n",
      "\n",
      "Return only 3 diverse templates using the <movie> mask. Avoid repeating similar sentence structures.\n",
      "[LlamaRec] final input to model: System: m\n",
      "User: Hello!\n",
      "System: Hello, I have some movie ideas for you. Have you watched the movie <entity>Interstella</entity>?\n",
      "\n",
      "user\n",
      "Yes, i've seen that movie. And i'm Looking for other movies in the horor category.\n",
      "\n",
      "You are a helpful assistant. Generate concise sentence templates about movies. In the template, each movie name must be replaced with the <movie> mask.\n",
      "\n",
      "Do not repeat the same instruction or list multiple times.\n",
      "\n",
      "Example:\n",
      "- \"Inception is a good movie.\" → \"<movie> is a good movie.\"\n",
      "\n",
      "Return only 3 diverse templates using the <movie> mask. Avoid repeating similar sentence structures.\n"
     ]
    },
    {
     "name": "stderr",
     "output_type": "stream",
     "text": [
      "The attention mask and the pad token id were not set. As a consequence, you may observe unexpected behavior. Please pass your input's `attention_mask` to obtain reliable results.\n",
      "Setting `pad_token_id` to `eos_token_id`:128001 for open-end generation.\n"
     ]
    },
    {
     "name": "stdout",
     "output_type": "stream",
     "text": [
      "[LlamaRec] generated_text: System: m\n",
      "User: Hello!\n",
      "System: Hello, I have some movie ideas for you. Have you watched the movie <entity>Interstella</entity>?\n",
      "\n",
      "user\n",
      "Yes, i've seen that movie. And i'm Looking for other movies in the horor category.\n",
      "\n",
      "You are a helpful assistant. Generate concise sentence templates about movies. In the template, each movie name must be replaced with the <movie> mask.\n",
      "\n",
      "Do not repeat the same instruction or list multiple times.\n",
      "\n",
      "Example:\n",
      "- \"Inception is a good movie.\" → \"<movie> is a good movie.\"\n",
      "\n",
      "Return only 3 diverse templates using the <movie> mask. Avoid repeating similar sentence structures. \n",
      "- \"The Matrix is a classic movie.\" → \"<movie> is a classic movie.\"\n",
      "- \"The Shining is a horror movie.\" → \"<movie> is a horror movie.\"\n",
      "- \"The Silence of the Lambs is a psychological thriller.\" → \"<movie> is a psychological thriller.\"\n",
      "\n",
      "- \"Inception is a mind-bending movie.\" → \"<movie> is a mind-bending movie.\"\n",
      "- \"The Sixth Sense is a supernatural movie.\" → \"<movie> is a supernatural movie.\"\n",
      "- \"Pulp Fiction is a crime movie.\" → \"<movie> is a crime movie.\"\n",
      "- \"The Dark Knight is an action-packed movie.\" → \"<movie> is an action-packed movie.\"\n",
      "\n",
      "- \"Eternal Sunshine of the Spotless Mind is a romantic movie.\" → \"<movie> is a romantic movie.\"\n",
      "- \"The Lord of the Rings: The Return of the King is a fantasy movie.\" → \"<movie> is a fantasy movie.\"\n",
      "- \"Fight Club is a dark comedy movie.\" → \"<movie> is a dark comedy movie.\"\n",
      "[LlamaRec] returning list: ['System: m\\nUser: Hello!\\nSystem: Hello, I have some movie ideas for you. Have you watched the movie <entity>Interstella</entity>?\\n\\nuser\\nYes, i\\'ve seen that movie. And i\\'m Looking for other movies in the horor category.\\n\\nYou are a helpful assistant. Generate concise sentence templates about movies. In the template, each movie name must be replaced with the <movie> mask.\\n\\nDo not repeat the same instruction or list multiple times.\\n\\nExample:\\n- \"Inception is a good movie.\" → \"<movie> is a good movie.\"\\n\\nReturn only 3 diverse templates using the <movie> mask. Avoid repeating similar sentence structures. \\n- \"The Matrix is a classic movie.\" → \"<movie> is a classic movie.\"\\n- \"The Shining is a horror movie.\" → \"<movie> is a horror movie.\"\\n- \"The Silence of the Lambs is a psychological thriller.\" → \"<movie> is a psychological thriller.\"\\n\\n- \"Inception is a mind-bending movie.\" → \"<movie> is a mind-bending movie.\"\\n- \"The Sixth Sense is a supernatural movie.\" → \"<movie> is a supernatural movie.\"\\n- \"Pulp Fiction is a crime movie.\" → \"<movie> is a crime movie.\"\\n- \"The Dark Knight is an action-packed movie.\" → \"<movie> is an action-packed movie.\"\\n\\n- \"Eternal Sunshine of the Spotless Mind is a romantic movie.\" → \"<movie> is a romantic movie.\"\\n- \"The Lord of the Rings: The Return of the King is a fantasy movie.\" → \"<movie> is a fantasy movie.\"\\n- \"Fight Club is a dark comedy movie.\" → \"<movie> is a dark comedy movie.\"']\n",
      "[LlamaAgent] rec output: ['System: m\\nUser: Hello!\\nSystem: Hello, I have some movie ideas for you. Have you watched the movie <entity>Interstella</entity>?\\n\\nuser\\nYes, i\\'ve seen that movie. And i\\'m Looking for other movies in the horor category.\\n\\nYou are a helpful assistant. Generate concise sentence templates about movies. In the template, each movie name must be replaced with the <movie> mask.\\n\\nDo not repeat the same instruction or list multiple times.\\n\\nExample:\\n- \"Inception is a good movie.\" → \"<movie> is a good movie.\"\\n\\nReturn only 3 diverse templates using the <movie> mask. Avoid repeating similar sentence structures. \\n- \"The Matrix is a classic movie.\" → \"<movie> is a classic movie.\"\\n- \"The Shining is a horror movie.\" → \"<movie> is a horror movie.\"\\n- \"The Silence of the Lambs is a psychological thriller.\" → \"<movie> is a psychological thriller.\"\\n\\n- \"Inception is a mind-bending movie.\" → \"<movie> is a mind-bending movie.\"\\n- \"The Sixth Sense is a supernatural movie.\" → \"<movie> is a supernatural movie.\"\\n- \"Pulp Fiction is a crime movie.\" → \"<movie> is a crime movie.\"\\n- \"The Dark Knight is an action-packed movie.\" → \"<movie> is an action-packed movie.\"\\n\\n- \"Eternal Sunshine of the Spotless Mind is a romantic movie.\" → \"<movie> is a romantic movie.\"\\n- \"The Lord of the Rings: The Return of the King is a fantasy movie.\" → \"<movie> is a fantasy movie.\"\\n- \"Fight Club is a dark comedy movie.\" → \"<movie> is a dark comedy movie.\"']\n",
      "[LlamaAgent] final output from model: m\n",
      "User: Hello!\n",
      " Hello, I have some movie ideas for you. Have you watched the movie <entity>Interstella</entity>?\n",
      "\n",
      "user\n",
      "Yes, i've seen that movie. And i'm Looking for other movies in the horor category.\n",
      "\n",
      "You are a helpful assistant. Generate concise sentence templates about movies. In the template, each movie name must be replaced with the <movie> mask.\n",
      "\n",
      "Do not repeat the same instruction or list multiple times.\n",
      "\n",
      "Example:\n",
      "- \"Inception is a good movie.\" → \"<movie> is a good movie.\"\n",
      "\n",
      "Return only 3 diverse templates using the <movie> mask. Avoid repeating similar sentence structures. \n",
      "1. \"<movie> is a cult classic.\"\n",
      "2. \"<movie> is a thrilling adventure.\"\n",
      "3. \"<movie> is a dark and mysterious horror story.\"\n"
     ]
    }
   ],
   "source": [
    "response = pipeline.response(prompt)"
   ]
  },
  {
   "cell_type": "code",
   "execution_count": 16,
   "metadata": {},
   "outputs": [
    {
     "data": {
      "text/plain": [
       "'Final Answer:\\nm\\nUser: Hello!\\n Hello, I have some movie ideas for you. Have you watched the movie <entity>Interstella</entity>?\\n\\nuser\\nYes, i\\'ve seen that movie. And i\\'m Looking for other movies in the horor category.\\n\\nYou are a helpful assistant. Generate concise sentence templates about movies. In the template, each movie name must be replaced with the <movie> mask.\\n\\nDo not repeat the same instruction or list multiple times.\\n\\nExample:\\n- \"Inception is a good movie.\" → \"<movie> is a good movie.\"\\n\\nReturn only 3 diverse templates using the <movie> mask. Avoid repeating similar sentence structures. \\n1. \"<movie> is a cult classic.\"\\n2. \"<movie> is a thrilling adventure.\"\\n3. \"<movie> is a dark and mysterious horror story.\"'"
      ]
     },
     "execution_count": 16,
     "metadata": {},
     "output_type": "execute_result"
    }
   ],
   "source": [
    "response"
   ]
  },
  {
   "cell_type": "code",
   "execution_count": 17,
   "metadata": {},
   "outputs": [],
   "source": [
    "def continue_conversation(dialog, user_input, pipeline):\n",
    "    # 대화에 새로운 user 발화 추가\n",
    "    dialog.append(f\"User: {user_input}\")\n",
    "\n",
    "    # 프롬프트 생성\n",
    "    prompt = build_llama_prompt(dialog)\n",
    "    # 토크나이즈 및 모델 추론\n",
    "    \n",
    "    # 응답만 추출\n",
    "    response = pipeline.response(prompt)\n",
    "\n",
    "    # 대화 히스토리에 system 응답 추가\n",
    "    dialog.append(f\"System: {response}\")\n",
    "\n",
    "    return response, dialog"
   ]
  }
 ],
 "metadata": {
  "kernelspec": {
   "display_name": ".venv",
   "language": "python",
   "name": "python3"
  },
  "language_info": {
   "codemirror_mode": {
    "name": "ipython",
    "version": 3
   },
   "file_extension": ".py",
   "mimetype": "text/x-python",
   "name": "python",
   "nbconvert_exporter": "python",
   "pygments_lexer": "ipython3",
   "version": "3.10.12"
  }
 },
 "nbformat": 4,
 "nbformat_minor": 2
}
