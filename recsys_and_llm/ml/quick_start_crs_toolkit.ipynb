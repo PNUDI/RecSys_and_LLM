{
 "cells": [
  {
   "cell_type": "code",
   "execution_count": 1,
   "metadata": {},
   "outputs": [
    {
     "name": "stderr",
     "output_type": "stream",
     "text": [
      "c:\\Users\\USER\\Desktop\\24_winter\\RecSys_and_LLM\\.venv\\Lib\\site-packages\\tqdm\\auto.py:21: TqdmWarning: IProgress not found. Please update jupyter and ipywidgets. See https://ipywidgets.readthedocs.io/en/stable/user_install.html\n",
      "  from .autonotebook import tqdm as notebook_tqdm\n"
     ]
    }
   ],
   "source": [
    "import crs_toolkit\n",
    "from crs_toolkit import ChatgptAgent, ChatgptAgentConfig\n",
    "from crs_toolkit import ChatgptGen, ChatgptRec\n",
    "from dotenv import load_dotenv\n",
    "import os"
   ]
  },
  {
   "cell_type": "code",
   "execution_count": 2,
   "metadata": {},
   "outputs": [
    {
     "data": {
      "text/plain": [
       "True"
      ]
     },
     "execution_count": 2,
     "metadata": {},
     "output_type": "execute_result"
    }
   ],
   "source": [
    "load_dotenv()"
   ]
  },
  {
   "cell_type": "code",
   "execution_count": 3,
   "metadata": {},
   "outputs": [],
   "source": [
    "os.environ[\"OPENAI_API_KEY\"] = os.getenv(\"OPENAI_API_KEY\")\n",
    "gpt_rec = ChatgptRec.from_pretrained('RecWizard/chatgpt-rec-fillblank')\n",
    "gpt_gen = ChatgptGen.from_pretrained('RecWizard/chatgpt-gen-fillblank')\n",
    "chat_gpt_config = ChatgptAgentConfig()\n",
    "pipeline = ChatgptAgent(\n",
    "    config=chat_gpt_config,\n",
    "    rec_module=gpt_rec,\n",
    "    gen_module=gpt_gen\n",
    ")"
   ]
  },
  {
   "cell_type": "code",
   "execution_count": 4,
   "metadata": {},
   "outputs": [],
   "source": [
    "def set_pipeline():\n",
    "    \n",
    "    return pipeline"
   ]
  },
  {
   "cell_type": "code",
   "execution_count": 5,
   "metadata": {},
   "outputs": [],
   "source": [
    "def chat_with_system(pipeline):\n",
    "    context = []\n",
    "    print(\"대화를 시작합니다. 종료하려면 'quit'를 입력하세요.\")\n",
    "\n",
    "    while True:\n",
    "        user_input = input(\"User: \")\n",
    "        if user_input.lower() == 'quit':\n",
    "            break\n",
    "\n",
    "        # 사용자 입력을 컨텍스트에 추가\n",
    "        context.append(f\"User: {user_input}\")\n",
    "\n",
    "        # 전체 컨텍스트를 <sep>로 연결\n",
    "        full_context = \"<sep>\".join(context)\n",
    "\n",
    "        # 응답 생성\n",
    "        response = pipeline.response(full_context)\n",
    "        print(\"System:\", response)\n",
    "\n",
    "        # 시스템 응답을 컨텍스트에 추가\n",
    "        context.append(f\"System: {response}\")"
   ]
  },
  {
   "cell_type": "code",
   "execution_count": 6,
   "metadata": {},
   "outputs": [],
   "source": [
    "dialog = [\n",
    "    \"User: Hello!\",\n",
    "    \"System: Hello, I have some movie ideas for you. Have you watched the movie <entity>Interstella</entity>?\",\n",
    "    \"User: Yes, i've seen that movie. And i'm Looking for other movies in the horor category.\"\n",
    "]"
   ]
  },
  {
   "cell_type": "code",
   "execution_count": 7,
   "metadata": {},
   "outputs": [],
   "source": [
    "def test_single_turn(pipeline, dialog):\n",
    "    # 대화 컨텍스트 설정\n",
    "    context = \"<sep>\".join(dialog)\n",
    "    # print(context)\n",
    "    answer = pipeline.response(context)\n",
    "    print(answer)\n",
    "    dialog.append(f\"System: {answer}\")"
   ]
  },
  {
   "cell_type": "code",
   "execution_count": 8,
   "metadata": {},
   "outputs": [
    {
     "name": "stdout",
     "output_type": "stream",
     "text": [
      "ChatCompletionMessage(content='Sure, I can suggest a few. Have you seen Seven or Primal Fear? They are both quite suspenseful and thrilling.', refusal=None, role='assistant', audio=None, function_call=None, tool_calls=None)\n"
     ]
    }
   ],
   "source": [
    "pipeline = set_pipeline()\n",
    "test_single_turn(pipeline, dialog)"
   ]
  },
  {
   "cell_type": "code",
   "execution_count": 9,
   "metadata": {},
   "outputs": [],
   "source": [
    "# dialog에 사용자의 입력을 추가하는 메서드\n",
    "def add_user_input(dialog, user_input):\n",
    "    dialog.append(f\"User: {user_input}\")"
   ]
  },
  {
   "cell_type": "code",
   "execution_count": 10,
   "metadata": {},
   "outputs": [
    {
     "name": "stdout",
     "output_type": "stream",
     "text": [
      "ChatCompletionMessage(content='Sure, if you\\'re looking for movies similar to Interstellar, you might enjoy \"2001: A Space Odyssey\". It also deals with space exploration and has a complex, thought-provoking plot.', refusal=None, role='assistant', audio=None, function_call=None, tool_calls=None)\n"
     ]
    }
   ],
   "source": [
    "add_user_input(dialog, \"thank you, i will check that out. Can you recommend me a movie that is similar to the movie <entity>Interstella</entity>?\")\n",
    "test_single_turn(pipeline, dialog)"
   ]
  }
 ],
 "metadata": {
  "kernelspec": {
   "display_name": ".venv",
   "language": "python",
   "name": "python3"
  },
  "language_info": {
   "codemirror_mode": {
    "name": "ipython",
    "version": 3
   },
   "file_extension": ".py",
   "mimetype": "text/x-python",
   "name": "python",
   "nbconvert_exporter": "python",
   "pygments_lexer": "ipython3",
   "version": "3.11.0"
  }
 },
 "nbformat": 4,
 "nbformat_minor": 2
}
