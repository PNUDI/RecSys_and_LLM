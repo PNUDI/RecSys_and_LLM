{
 "cells": [
  {
   "cell_type": "code",
   "execution_count": 1,
   "metadata": {},
   "outputs": [
    {
     "name": "stderr",
     "output_type": "stream",
     "text": [
      "c:\\Users\\USER\\Desktop\\24_winter\\RecSys_and_LLM\\.venv\\Lib\\site-packages\\tqdm\\auto.py:21: TqdmWarning: IProgress not found. Please update jupyter and ipywidgets. See https://ipywidgets.readthedocs.io/en/stable/user_install.html\n",
      "  from .autonotebook import tqdm as notebook_tqdm\n",
      "c:\\Users\\USER\\Desktop\\24_winter\\RecSys_and_LLM\\.venv\\Lib\\site-packages\\transformers\\utils\\generic.py:311: FutureWarning: `torch.utils._pytree._register_pytree_node` is deprecated. Please use `torch.utils._pytree.register_pytree_node` instead.\n",
      "  torch.utils._pytree._register_pytree_node(\n",
      "c:\\Users\\USER\\Desktop\\24_winter\\RecSys_and_LLM\\.venv\\Lib\\site-packages\\transformers\\utils\\generic.py:311: FutureWarning: `torch.utils._pytree._register_pytree_node` is deprecated. Please use `torch.utils._pytree.register_pytree_node` instead.\n",
      "  torch.utils._pytree._register_pytree_node(\n"
     ]
    }
   ],
   "source": [
    "import recwizard\n",
    "import os\n",
    "from recwizard import FillBlankConfig, FillBlankPipeline\n",
    "from recwizard import ExpansionConfig, ExpansionPipeline\n",
    "from recwizard import UnicrsRec, UnicrsGen\n",
    "from recwizard import ChatgptGen, RedialRec"
   ]
  },
  {
   "cell_type": "code",
   "execution_count": 2,
   "metadata": {},
   "outputs": [
    {
     "name": "stderr",
     "output_type": "stream",
     "text": [
      "c:\\Users\\USER\\Desktop\\24_winter\\RecSys_and_LLM\\.venv\\Lib\\site-packages\\huggingface_hub\\file_download.py:795: FutureWarning: `resume_download` is deprecated and will be removed in version 1.0.0. Downloads always resume when possible. If you want to force a new download, use `force_download=True`.\n",
      "  warnings.warn(\n",
      "c:\\Users\\USER\\Desktop\\24_winter\\RecSys_and_LLM\\.venv\\Lib\\site-packages\\transformers\\modeling_utils.py:488: FutureWarning: You are using `torch.load` with `weights_only=False` (the current default value), which uses the default pickle module implicitly. It is possible to construct malicious pickle data which will execute arbitrary code during unpickling (See https://github.com/pytorch/pytorch/blob/main/SECURITY.md#untrusted-models for more details). In a future release, the default value for `weights_only` will be flipped to `True`. This limits the functions that could be executed during unpickling. Arbitrary objects will no longer be allowed to be loaded via this mode unless they are explicitly allowlisted by the user via `torch.serialization.add_safe_globals`. We recommend you start setting `weights_only=True` for any use case where you don't have full control of the loaded file. Please open an issue on GitHub for any issues related to this experimental feature.\n",
      "  return torch.load(checkpoint_file, map_location=map_location)\n",
      "Some weights of RobertaModel were not initialized from the model checkpoint at roberta-base and are newly initialized: ['roberta.pooler.dense.weight', 'roberta.pooler.dense.bias']\n",
      "You should probably TRAIN this model on a down-stream task to be able to use it for predictions and inference.\n",
      "You are resizing the embedding layer without providing a `pad_to_multiple_of` parameter. This means that the new embedding dimension will be 50266. This might induce some performance reduction as *Tensor Cores* will not be available. For more details about this, or help on choosing the correct value for resizing, refer to this guide: https://docs.nvidia.com/deeplearning/performance/dl-performance-matrix-multiplication/index.html#requirements-tc\n",
      "You are resizing the embedding layer without providing a `pad_to_multiple_of` parameter. This means that the new embedding dimension will be 50259. This might induce some performance reduction as *Tensor Cores* will not be available. For more details about this, or help on choosing the correct value for resizing, refer to this guide: https://docs.nvidia.com/deeplearning/performance/dl-performance-matrix-multiplication/index.html#requirements-tc\n",
      "Some weights of RobertaModel were not initialized from the model checkpoint at roberta-base and are newly initialized: ['roberta.pooler.dense.weight', 'roberta.pooler.dense.bias']\n",
      "You should probably TRAIN this model on a down-stream task to be able to use it for predictions and inference.\n",
      "You are resizing the embedding layer without providing a `pad_to_multiple_of` parameter. This means that the new embedding dimension will be 50266. This might induce some performance reduction as *Tensor Cores* will not be available. For more details about this, or help on choosing the correct value for resizing, refer to this guide: https://docs.nvidia.com/deeplearning/performance/dl-performance-matrix-multiplication/index.html#requirements-tc\n",
      "You are resizing the embedding layer without providing a `pad_to_multiple_of` parameter. This means that the new embedding dimension will be 50259. This might induce some performance reduction as *Tensor Cores* will not be available. For more details about this, or help on choosing the correct value for resizing, refer to this guide: https://docs.nvidia.com/deeplearning/performance/dl-performance-matrix-multiplication/index.html#requirements-tc\n"
     ]
    }
   ],
   "source": [
    "os.environ[\"OPENAI_API_KEY\"] = \"YOUR_API_KEY\"\n",
    "##################\n",
    "# Recommendation #\n",
    "##################\n",
    "unicrs_rec = UnicrsRec.from_pretrained('recwizard/unicrs-rec-redial')\n",
    "##################\n",
    "#   Generation   #\n",
    "##################\n",
    "unicrs_gen = UnicrsGen.from_pretrained('recwizard/unicrs-gen-redial')\n",
    "gpt_gen = ChatgptGen.from_pretrained('RecWizard/chatgpt-gen-fillblank')\n",
    "##################\n",
    "# Configurations #\n",
    "##################\n",
    "fill_blank_config = FillBlankConfig()\n",
    "expansion_config = ExpansionConfig()"
   ]
  },
  {
   "cell_type": "code",
   "execution_count": 3,
   "metadata": {},
   "outputs": [],
   "source": [
    "def set_pipeline(flag, rec_module, gen_module):\n",
    "    if flag.lower() == 'blank':\n",
    "        pipeline = FillBlankPipeline(\n",
    "            config=fill_blank_config,\n",
    "            rec_module=rec_module,\n",
    "            gen_module=gen_module\n",
    "        )\n",
    "    elif flag.lower() == 'expansion':\n",
    "        pipeline = ExpansionPipeline(\n",
    "            config=expansion_config,\n",
    "            rec_module=rec_module,\n",
    "            gen_module=gen_module\n",
    "    )\n",
    "    else:\n",
    "        pipeline = FillBlankPipeline(\n",
    "            config=fill_blank_config,\n",
    "            rec_module=unicrs_rec,\n",
    "            gen_module=gen_module\n",
    "        )\n",
    "    return pipeline"
   ]
  },
  {
   "cell_type": "code",
   "execution_count": 4,
   "metadata": {},
   "outputs": [],
   "source": [
    "def chat_with_system(pipeline):\n",
    "    context = []\n",
    "    print(\"대화를 시작합니다. 종료하려면 'quit'를 입력하세요.\")\n",
    "\n",
    "    while True:\n",
    "        user_input = input(\"User: \")\n",
    "        if user_input.lower() == 'quit':\n",
    "            break\n",
    "\n",
    "        # 사용자 입력을 컨텍스트에 추가\n",
    "        context.append(f\"User: {user_input}\")\n",
    "\n",
    "        # 전체 컨텍스트를 <sep>로 연결\n",
    "        full_context = \"<sep>\".join(context)\n",
    "\n",
    "        # 응답 생성\n",
    "        response = pipeline.response(full_context)\n",
    "        print(\"System:\", response)\n",
    "\n",
    "        # 시스템 응답을 컨텍스트에 추가\n",
    "        context.append(f\"System: {response}\")"
   ]
  },
  {
   "cell_type": "code",
   "execution_count": 5,
   "metadata": {},
   "outputs": [],
   "source": [
    "dialog = [\n",
    "    \"User: Hello!\",\n",
    "    \"System: Hello, I have some movie ideas for you. Have you watched the movie <entity>Interstella</entity>?\",\n",
    "    \"User: Yes, i've seen that movie. And i'm Looking for other movies in the horor category.\"\n",
    "]"
   ]
  },
  {
   "cell_type": "code",
   "execution_count": 6,
   "metadata": {},
   "outputs": [],
   "source": [
    "def test_single_turn(pipeline, dialog):\n",
    "    # 대화 컨텍스트 설정\n",
    "    context = \"<sep>\".join(dialog)\n",
    "    # print(context)\n",
    "    answer = pipeline.response(context)\n",
    "    print(answer)\n",
    "    dialog.append(f\"System: {answer}\")"
   ]
  },
  {
   "cell_type": "code",
   "execution_count": 7,
   "metadata": {},
   "outputs": [
    {
     "name": "stdout",
     "output_type": "stream",
     "text": [
      "System: Sure, if you're into horror, you might want to check out It (2017). It's really popular in the genre.\n"
     ]
    }
   ],
   "source": [
    "pipeline = set_pipeline('gpt', unicrs_rec, gpt_gen)\n",
    "test_single_turn(pipeline, dialog)\n",
    "#chat_with_system(pipeline)"
   ]
  },
  {
   "cell_type": "code",
   "execution_count": 8,
   "metadata": {},
   "outputs": [],
   "source": [
    "# dialog에 사용자의 입력을 추가하는 메서드\n",
    "def add_user_input(dialog, user_input):\n",
    "    dialog.append(f\"User: {user_input}\")"
   ]
  },
  {
   "cell_type": "code",
   "execution_count": 9,
   "metadata": {},
   "outputs": [
    {
     "name": "stdout",
     "output_type": "stream",
     "text": [
      "System: Sure, if you enjoyed Interstellar, you might also like Interstellar (2014). It has a similar theme of space exploration and a complex storyline.\n"
     ]
    }
   ],
   "source": [
    "add_user_input(dialog, \"thank you, i will check that out. Can you recommend me a movie that is similar to the movie <entity>Interstella</entity>?\")\n",
    "test_single_turn(pipeline, dialog)"
   ]
  }
 ],
 "metadata": {
  "kernelspec": {
   "display_name": ".venv",
   "language": "python",
   "name": "python3"
  },
  "language_info": {
   "codemirror_mode": {
    "name": "ipython",
    "version": 3
   },
   "file_extension": ".py",
   "mimetype": "text/x-python",
   "name": "python",
   "nbconvert_exporter": "python",
   "pygments_lexer": "ipython3",
   "version": "3.11.0"
  }
 },
 "nbformat": 4,
 "nbformat_minor": 2
}
